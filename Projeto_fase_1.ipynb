{
  "nbformat": 4,
  "nbformat_minor": 0,
  "metadata": {
    "colab": {
      "provenance": [],
      "authorship_tag": "ABX9TyOtvxW7a40iXuMzC0YSo1yn",
      "include_colab_link": true
    },
    "kernelspec": {
      "name": "python3",
      "display_name": "Python 3"
    },
    "language_info": {
      "name": "python"
    }
  },
  "cells": [
    {
      "cell_type": "markdown",
      "metadata": {
        "id": "view-in-github",
        "colab_type": "text"
      },
      "source": [
        "<a href=\"https://colab.research.google.com/github/rahqueiroz/fase01/blob/main/Projeto_fase_1.ipynb\" target=\"_parent\"><img src=\"https://colab.research.google.com/assets/colab-badge.svg\" alt=\"Open In Colab\"/></a>"
      ]
    },
    {
      "cell_type": "code",
      "execution_count": null,
      "metadata": {
        "id": "7eTVTb3zd7lg"
      },
      "outputs": [],
      "source": [
        "import csv\n",
        "\n",
        "file_path = '/content/steam_games.csv'\n",
        "def load_csv_data(file_path):\n",
        "    \"\"\"\n",
        "    Carrega dados de um arquivo CSV usando csv.reader.\n",
        "\n",
        "    Args:\n",
        "        file_path (str): O caminho do arquivo CSV.\n",
        "\n",
        "    Returns:\n",
        "        list: Uma lista contendo as linhas do arquivo CSV.\n",
        "\n",
        "    Exemplo:\n",
        "    >>> load_csv_data('sample_data.csv')[:2]\n",
        "    [['ID', 'Name', 'Age'], ['1', 'John', '30']]\n",
        "    \"\"\"\n",
        "    data = []\n",
        "    with open(file_path, 'r') as file:\n",
        "        csv_reader = csv.reader(file)\n",
        "        for row in csv_reader:\n",
        "            data.append(row)\n",
        "    return data"
      ]
    },
    {
      "cell_type": "code",
      "source": [
        "from ast import Yield\n",
        "\n",
        "\n",
        "class SteamGamesAnalyzer:\n",
        "    \"\"\"\n",
        "    Classe para analisar dados de jogos da Steam e calcular o percentual de jogos gratuitos e pagos.\n",
        "\n",
        "    Métodos:\n",
        "        load_data: Carrega os dados do arquivo CSV.\n",
        "        calculate_percentages: Calcula o percentual de jogos gratuitos e pagos.\n",
        "        find_most_expensive_game: Encontra o jogo com o maior preço.\n",
        "    \"\"\"\n",
        "\n",
        "    def __init__(self, file_path):\n",
        "        \"\"\"\n",
        "        Inicializa a classe com o caminho do arquivo CSV.\n",
        "\n",
        "        Args:\n",
        "            file_path (str): O caminho do arquivo CSV contendo os dados dos jogos.\n",
        "        \"\"\"\n",
        "        self.file_path = file_path\n",
        "        self.data = []\n",
        "\n",
        "    def load_data(self):\n",
        "        \"\"\"\n",
        "        Carrega os dados do arquivo CSV.\n",
        "\n",
        "        Raises:\n",
        "            FileNotFoundError: Se o arquivo não for encontrado.\n",
        "        \"\"\"\n",
        "        try:\n",
        "            with open(self.file_path, 'r', encoding='utf-8') as file:\n",
        "                csv_reader = csv.reader(file)\n",
        "                self.data = list(csv_reader)\n",
        "\n",
        "        except FileNotFoundError as e:\n",
        "            print(f\"Erro: Arquivo não encontrado. Detalhes: {e}\")\n",
        "            raise\n",
        "\n",
        "    def calculate_percentages(self):\n",
        "        \"\"\"\n",
        "        Calcula o percentual de jogos gratuitos e pagos.\n",
        "\n",
        "        Returns:\n",
        "            dict: Um dicionário contendo os percentuais de jogos gratuitos e pagos.\n",
        "        \"\"\"\n",
        "        if not self.data:\n",
        "            raise ValueError(\"Os dados não foram carregados. Execute load_data() primeiro.\")\n",
        "\n",
        "        anos = []  # ('2020',123)\n",
        "        anos.append(('', 0))\n",
        "        total_jogos = len(self.data) - 1  # Exclui o cabeçalho\n",
        "        i = 0\n",
        "        total_gratuitos = 0\n",
        "\n",
        "        for i in range(total_jogos):\n",
        "            if self.data[i][6] == '0.0':\n",
        "                total_gratuitos += 1\n",
        "\n",
        "            # SEGUNDA PERGUNTA\n",
        "            salvo = 0\n",
        "            y = 0\n",
        "            anos_contab = len(anos)\n",
        "            ano_game = (self.data[i][2])[-4:]\n",
        "\n",
        "            for y in range(anos_contab):\n",
        "                if ano_game == anos[y][0]:\n",
        "                    index = y\n",
        "                    salvo = 1\n",
        "                    break\n",
        "\n",
        "            if salvo == 1:\n",
        "                listtuple = list(anos[y])\n",
        "                listtuple[1] += 1\n",
        "                anos[y] = tuple(listtuple)\n",
        "\n",
        "            else:\n",
        "                tuplaaa = (ano_game, 1)\n",
        "                anos.append(tuplaaa)\n",
        "\n",
        "        # Verificação do ano com mais jogos\n",
        "        y = 0\n",
        "        pri_maior = 0\n",
        "        ano_pri_maior = ''\n",
        "        seg_maior = 0\n",
        "        ano_seg_maior = ''\n",
        "\n",
        "        for y in range(len(anos)):\n",
        "            if anos[y][1] >= pri_maior:\n",
        "                ano_seg_maior = ano_pri_maior\n",
        "                seg_maior = pri_maior\n",
        "\n",
        "                ano_pri_maior = anos[y][0]\n",
        "                pri_maior = anos[y][1]\n",
        "\n",
        "        item = total_jogos\n",
        "        total_pagos = total_jogos - total_gratuitos\n",
        "\n",
        "        percentual_gratuitos = (total_gratuitos / total_jogos) * 100\n",
        "        percentual_pagos = (total_pagos / total_jogos) * 100\n",
        "\n",
        "        return {\n",
        "            'item': item,\n",
        "            'total_jogos': total_jogos,\n",
        "            'percentual_gratuitos': percentual_gratuitos,\n",
        "            'percentual_pagos': percentual_pagos,\n",
        "            'primeiro_maior': pri_maior,\n",
        "            'segundo_maior': seg_maior,\n",
        "            'ano_seg_maior': ano_seg_maior,\n",
        "            'ano_pri_maior': ano_pri_maior\n",
        "        }\n",
        "\n",
        "    def find_most_expensive_game(self):\n",
        "        \"\"\"\n",
        "        Encontra o jogo com o maior preço.\n",
        "\n",
        "        Returns:\n",
        "            dict: Um dicionário contendo as informações do jogo com o maior preço.\n",
        "        \"\"\"\n",
        "        if not self.data:\n",
        "            raise ValueError(\"Os dados não foram carregados. Execute load_data() primeiro.\")\n",
        "\n",
        "        max_price = 0\n",
        "        max_price_game = {}\n",
        "\n",
        "        for game in self.data[1:]:  # Ignorando o cabeçalho\n",
        "            try:\n",
        "                price = float(game[7])  # Assumindo que o preço está na coluna 7\n",
        "                if price > max_price:\n",
        "                    max_price = price\n",
        "                    max_price_game = {\n",
        "                        'Nome': game[1],\n",
        "                        'Preço': price\n",
        "                    }\n",
        "            except ValueError:\n",
        "                continue\n",
        "\n",
        "        return max_price_game\n",
        "\n",
        "# Exemplo de utilização\n",
        "\n",
        "analyzer = SteamGamesAnalyzer('steam_games.csv')\n",
        "analyzer.load_data()\n",
        "\n",
        "try:\n",
        "    percentages = analyzer.calculate_percentages()\n",
        "    print(f\"Percentual de jogos gratuitos: {percentages['percentual_gratuitos']:.2f}%\")\n",
        "    print(f\"Percentual de jogos pagos: {percentages['percentual_pagos']:.2f}%\")\n",
        "    if percentages['ano_pri_maior'] == percentages['ano_seg_maior']:\n",
        "        print(f\"Houve um empate entre os anos {percentages['ano_pri_maior']} e {percentages['ano_seg_maior']}\")\n",
        "    else:\n",
        "        print(f\"O ano com maior número de novos jogos é: {percentages['ano_pri_maior']}\")\n",
        "\n",
        "    most_expensive_game = analyzer.find_most_expensive_game()\n",
        "    if most_expensive_game:\n",
        "        print(f\"O jogo mais caro é o '{most_expensive_game['Nome']}' com o preço de ${most_expensive_game['Preço']:.2f}\")\n",
        "    else:\n",
        "        print(\"Não foi encontrado nenhum jogo.\")\n",
        "except Exception as e:\n",
        "    print(f\"Erro ao calcular percentuais: {e}\")"
      ],
      "metadata": {
        "colab": {
          "base_uri": "https://localhost:8080/"
        },
        "id": "QiP829ZFf4Nl",
        "outputId": "cc98b221-04fe-407e-ce76-492997306321"
      },
      "execution_count": 13,
      "outputs": [
        {
          "output_type": "stream",
          "name": "stdout",
          "text": [
            "Percentual de jogos gratuitos: 17.39%\n",
            "Percentual de jogos pagos: 82.61%\n",
            "O ano com maior número de novos jogos é: 2022\n",
            "O jogo mais caro é o 'Fantasy Grounds Unity' com o preço de $2366.00\n"
          ]
        }
      ]
    },
    {
      "cell_type": "code",
      "source": [
        "import doctest\n",
        "doctest.testmod(verbose=True)"
      ],
      "metadata": {
        "colab": {
          "base_uri": "https://localhost:8080/"
        },
        "id": "pHcOAC8IChv5",
        "outputId": "8efab179-a208-4163-8dff-37d783f71fd0"
      },
      "execution_count": null,
      "outputs": [
        {
          "output_type": "stream",
          "name": "stderr",
          "text": [
            "\n",
            "PYDEV DEBUGGER WARNING:\n",
            "sys.settrace() should not be used when the debugger is being used.\n",
            "This may cause the debugger to stop working correctly.\n",
            "If this is needed, please check: \n",
            "http://pydev.blogspot.com/2007/06/why-cant-pydev-debugger-work-with.html\n",
            "to see how to restore the debug tracing back correctly.\n",
            "Call Location:\n",
            "  File \"/usr/lib/python3.10/doctest.py\", line 1501, in run\n",
            "    sys.settrace(save_trace)\n",
            "\n"
          ]
        },
        {
          "output_type": "stream",
          "name": "stdout",
          "text": [
            "Trying:\n",
            "    load_csv_data('sample_data.csv')[:2]\n",
            "Expecting:\n",
            "    [['ID', 'Name', 'Age'], ['1', 'John', '30']]\n",
            "**********************************************************************\n",
            "File \"__main__\", line 15, in __main__.load_csv_data\n",
            "Failed example:\n",
            "    load_csv_data('sample_data.csv')[:2]\n",
            "Exception raised:\n",
            "    Traceback (most recent call last):\n",
            "      File \"/usr/lib/python3.10/doctest.py\", line 1350, in __run\n",
            "        exec(compile(example.source, filename, \"single\",\n",
            "      File \"<doctest __main__.load_csv_data[0]>\", line 1, in <module>\n",
            "        load_csv_data('sample_data.csv')[:2]\n",
            "      File \"<ipython-input-2-fd76141f1c34>\", line 19, in load_csv_data\n",
            "        with open(file_path, 'r') as file:\n",
            "    FileNotFoundError: [Errno 2] No such file or directory: 'sample_data.csv'\n",
            "6 items had no tests:\n",
            "    __main__\n",
            "    __main__.SteamGamesAnalyzer\n",
            "    __main__.SteamGamesAnalyzer.__init__\n",
            "    __main__.SteamGamesAnalyzer.calculate_percentages\n",
            "    __main__.SteamGamesAnalyzer.find_most_expensive_game\n",
            "    __main__.SteamGamesAnalyzer.load_data\n",
            "**********************************************************************\n",
            "1 items had failures:\n",
            "   1 of   1 in __main__.load_csv_data\n",
            "1 tests in 7 items.\n",
            "0 passed and 1 failed.\n",
            "***Test Failed*** 1 failures.\n"
          ]
        },
        {
          "output_type": "execute_result",
          "data": {
            "text/plain": [
              "TestResults(failed=1, attempted=1)"
            ]
          },
          "metadata": {},
          "execution_count": 11
        }
      ]
    },
    {
      "cell_type": "code",
      "source": [],
      "metadata": {
        "id": "75p97gZ3SzM9"
      },
      "execution_count": null,
      "outputs": []
    }
  ]
}